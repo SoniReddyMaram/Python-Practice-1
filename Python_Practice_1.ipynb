{
  "nbformat": 4,
  "nbformat_minor": 0,
  "metadata": {
    "colab": {
      "provenance": []
    },
    "kernelspec": {
      "name": "python3",
      "display_name": "Python 3"
    },
    "language_info": {
      "name": "python"
    }
  },
  "cells": [
    {
      "cell_type": "code",
      "execution_count": 1,
      "metadata": {
        "id": "IMxcHC1WxQUw",
        "colab": {
          "base_uri": "https://localhost:8080/"
        },
        "outputId": "d145737e-c623-4428-d4d8-c504715e38ea"
      },
      "outputs": [
        {
          "output_type": "stream",
          "name": "stdout",
          "text": [
            "15\n",
            "510\n"
          ]
        }
      ],
      "source": [
        "a = 5\n",
        "b = \"10\"\n",
        "print(a + int(b))\n",
        "print(str(a) + b)"
      ]
    },
    {
      "cell_type": "code",
      "source": [
        "def fibonacci(n):\n",
        "  if n<=1:\n",
        "    return n\n",
        "  else:\n",
        "    return fibonacci(n-1) + fibonacci(n-2)\n",
        "print(fibonacci(6))"
      ],
      "metadata": {
        "colab": {
          "base_uri": "https://localhost:8080/"
        },
        "id": "nR_1RE-ZkqCB",
        "outputId": "74449fbf-2f9c-4adf-f26a-b5e35cfb3af2"
      },
      "execution_count": 28,
      "outputs": [
        {
          "output_type": "stream",
          "name": "stdout",
          "text": [
            "8\n"
          ]
        }
      ]
    },
    {
      "cell_type": "code",
      "source": [
        "def foo(x=[]):\n",
        "  x.append(1)\n",
        "  return x\n",
        "print(foo())\n",
        "print(foo())\n",
        "print(foo())"
      ],
      "metadata": {
        "colab": {
          "base_uri": "https://localhost:8080/"
        },
        "id": "b3WvESdVpnKf",
        "outputId": "62f16848-6a3f-48cd-fbdb-e37b79d05dcb"
      },
      "execution_count": 5,
      "outputs": [
        {
          "output_type": "stream",
          "name": "stdout",
          "text": [
            "[1]\n",
            "[1, 1]\n",
            "[1, 1, 1]\n"
          ]
        }
      ]
    },
    {
      "cell_type": "code",
      "source": [
        "def foo(x):\n",
        "  return x + 1\n",
        "result = map(foo, [1,2,3,4,5])\n",
        "print(list(result))"
      ],
      "metadata": {
        "colab": {
          "base_uri": "https://localhost:8080/"
        },
        "id": "2xhhl-plp2eH",
        "outputId": "8b3018a2-ee94-4186-be5d-90907de99766"
      },
      "execution_count": 7,
      "outputs": [
        {
          "output_type": "stream",
          "name": "stdout",
          "text": [
            "[2, 3, 4, 5, 6]\n"
          ]
        }
      ]
    },
    {
      "cell_type": "code",
      "source": [
        "def foo(x, y=[]):\n",
        "  y.append(x)\n",
        "  return y\n",
        "print(foo(1))\n",
        "print(foo(2))"
      ],
      "metadata": {
        "colab": {
          "base_uri": "https://localhost:8080/"
        },
        "id": "LInHVZxiq4zK",
        "outputId": "0c8bbe0f-b120-41fe-f2f4-2df028394929"
      },
      "execution_count": 10,
      "outputs": [
        {
          "output_type": "stream",
          "name": "stdout",
          "text": [
            "[1]\n",
            "[1, 2]\n"
          ]
        }
      ]
    },
    {
      "cell_type": "code",
      "source": [
        "def bar(a, b=2, c=3):\n",
        "  print(a,b,c)\n",
        "bar(1)\n",
        "bar(1,4)\n",
        "bar(1,c=5)"
      ],
      "metadata": {
        "colab": {
          "base_uri": "https://localhost:8080/"
        },
        "id": "cak0B81yqNLr",
        "outputId": "efcd44ff-58c8-4267-cb70-e4f905e1efc6"
      },
      "execution_count": 8,
      "outputs": [
        {
          "output_type": "stream",
          "name": "stdout",
          "text": [
            "1 2 3\n",
            "1 4 3\n",
            "1 2 5\n"
          ]
        }
      ]
    },
    {
      "cell_type": "code",
      "source": [
        "s = set('CLC')\n",
        "t = list(s)\n",
        "t = t[::-1]\n",
        "print(t)"
      ],
      "metadata": {
        "colab": {
          "base_uri": "https://localhost:8080/"
        },
        "id": "PYqOHX4eqhoa",
        "outputId": "12efa7ec-5032-49d1-c2f1-a689c07f8494"
      },
      "execution_count": 9,
      "outputs": [
        {
          "output_type": "stream",
          "name": "stdout",
          "text": [
            "['L', 'C']\n"
          ]
        }
      ]
    },
    {
      "cell_type": "code",
      "source": [
        "g = (1,2,3)\n",
        "h = (1,2,3)\n",
        "print(f\"g is h: {g is h}\")\n",
        "print(f\"g == h: {g ==h}\")"
      ],
      "metadata": {
        "colab": {
          "base_uri": "https://localhost:8080/"
        },
        "id": "OsuX9K5PvzdQ",
        "outputId": "c8df5594-f1b9-4018-a1db-091c98df9806"
      },
      "execution_count": 27,
      "outputs": [
        {
          "output_type": "stream",
          "name": "stdout",
          "text": [
            "g is h: False\n",
            "g == h: True\n"
          ]
        }
      ]
    },
    {
      "cell_type": "code",
      "source": [
        "def func(x, y=5, z=10):\n",
        "  return x + y + z\n",
        "result = func(3, z=7)\n",
        "print(result)"
      ],
      "metadata": {
        "colab": {
          "base_uri": "https://localhost:8080/"
        },
        "id": "-K13KamMrLD2",
        "outputId": "6a786cc6-d928-4a22-cad3-47247a30b808"
      },
      "execution_count": 11,
      "outputs": [
        {
          "output_type": "stream",
          "name": "stdout",
          "text": [
            "15\n"
          ]
        }
      ]
    },
    {
      "cell_type": "code",
      "source": [
        "def outer_function(x):\n",
        "  def inner_function(y):\n",
        "    return x + y\n",
        "  return inner_function\n",
        "result = outer_function(5)(3)\n",
        "print(result)"
      ],
      "metadata": {
        "colab": {
          "base_uri": "https://localhost:8080/"
        },
        "id": "-xWpHcGnrnQd",
        "outputId": "8cdfbc7d-acc5-4012-8057-a322345d3433"
      },
      "execution_count": 13,
      "outputs": [
        {
          "output_type": "stream",
          "name": "stdout",
          "text": [
            "8\n"
          ]
        }
      ]
    },
    {
      "cell_type": "code",
      "source": [
        "s1 = {1 and 2 }\n",
        "s2 = {1 or 3 }\n",
        "result = s1 ^ s2\n",
        "print(result)"
      ],
      "metadata": {
        "colab": {
          "base_uri": "https://localhost:8080/"
        },
        "id": "GiXIjMvvsJsk",
        "outputId": "ee2dc20f-3eca-4810-edc1-1c533e2020b4"
      },
      "execution_count": 14,
      "outputs": [
        {
          "output_type": "stream",
          "name": "stdout",
          "text": [
            "{1, 2}\n"
          ]
        }
      ]
    },
    {
      "cell_type": "code",
      "source": [
        "my_tuple = (1,2,3)\n",
        "x, y, z, *rest = my_tuple\n",
        "print(x, y, z, rest)"
      ],
      "metadata": {
        "colab": {
          "base_uri": "https://localhost:8080/"
        },
        "id": "XHv96JQXsmgg",
        "outputId": "a0bfc42d-2506-4a5d-bcce-545567acc002"
      },
      "execution_count": 15,
      "outputs": [
        {
          "output_type": "stream",
          "name": "stdout",
          "text": [
            "1 2 3 []\n"
          ]
        }
      ]
    },
    {
      "cell_type": "code",
      "source": [
        "a = [1,2,3,4]\n",
        "b = [1,2,5]\n",
        "print(a<b)"
      ],
      "metadata": {
        "colab": {
          "base_uri": "https://localhost:8080/"
        },
        "id": "wTSU8LEvtBOF",
        "outputId": "de48e816-427e-48f8-8e63-8d20f2bbdf17"
      },
      "execution_count": 16,
      "outputs": [
        {
          "output_type": "stream",
          "name": "stdout",
          "text": [
            "True\n"
          ]
        }
      ]
    },
    {
      "cell_type": "code",
      "source": [
        "def some_func(a, b, c=0, d=1):\n",
        "  return a+b+c+d\n",
        "result = some_func(1, 2, d=4)\n",
        "print(result)"
      ],
      "metadata": {
        "colab": {
          "base_uri": "https://localhost:8080/"
        },
        "id": "nzPc1kbJtSPG",
        "outputId": "9067875e-ad65-4a8b-d703-663de157acef"
      },
      "execution_count": 17,
      "outputs": [
        {
          "output_type": "stream",
          "name": "stdout",
          "text": [
            "7\n"
          ]
        }
      ]
    },
    {
      "cell_type": "code",
      "source": [
        "for i in range(1, 5):\n",
        "  print(i, end='-')\n"
      ],
      "metadata": {
        "colab": {
          "base_uri": "https://localhost:8080/"
        },
        "id": "uUmuTxOvtlhS",
        "outputId": "c2f8d3f0-68d0-4c25-e3fd-99239e9faa8e"
      },
      "execution_count": 20,
      "outputs": [
        {
          "output_type": "stream",
          "name": "stdout",
          "text": [
            "1-2-3-4-"
          ]
        }
      ]
    },
    {
      "cell_type": "code",
      "source": [
        "s = 'python'\n",
        "index = s.find('n', -1)\n",
        "print(index)"
      ],
      "metadata": {
        "colab": {
          "base_uri": "https://localhost:8080/"
        },
        "id": "kmNkyL5duBJS",
        "outputId": "19c2ba88-f2e6-4024-856f-ef97e766a5b0"
      },
      "execution_count": 22,
      "outputs": [
        {
          "output_type": "stream",
          "name": "stdout",
          "text": [
            "5\n"
          ]
        }
      ]
    },
    {
      "cell_type": "code",
      "source": [
        "years = 5\n",
        "if True or False:\n",
        "  years  = years + 2\n",
        "print(years)"
      ],
      "metadata": {
        "colab": {
          "base_uri": "https://localhost:8080/"
        },
        "id": "YW2yLpDxuglz",
        "outputId": "e349d7b6-2d92-4b2e-9269-b2b6af70264c"
      },
      "execution_count": 23,
      "outputs": [
        {
          "output_type": "stream",
          "name": "stdout",
          "text": [
            "7\n"
          ]
        }
      ]
    },
    {
      "cell_type": "code",
      "source": [
        "print([]*5)"
      ],
      "metadata": {
        "colab": {
          "base_uri": "https://localhost:8080/"
        },
        "id": "rEm69xj-vPmA",
        "outputId": "1783c084-edeb-4dfa-ea3b-2e5d330b9b6a"
      },
      "execution_count": 26,
      "outputs": [
        {
          "output_type": "stream",
          "name": "stdout",
          "text": [
            "[]\n"
          ]
        }
      ]
    },
    {
      "cell_type": "code",
      "source": [
        "a = 20 or 40\n",
        "if 30 <= a <= 50:\n",
        "  print('Hello')\n",
        "else:\n",
        "  print('Hi')"
      ],
      "metadata": {
        "colab": {
          "base_uri": "https://localhost:8080/"
        },
        "id": "b3ILVuoHvn_i",
        "outputId": "7655952e-0a35-4068-ef22-8d1174da6bb6"
      },
      "execution_count": 29,
      "outputs": [
        {
          "output_type": "stream",
          "name": "stdout",
          "text": [
            "Hi\n"
          ]
        }
      ]
    },
    {
      "cell_type": "code",
      "source": [
        "my_string = \"hello, world!\"\n",
        "substring = my_string[2:7]\n",
        "print(substring)"
      ],
      "metadata": {
        "colab": {
          "base_uri": "https://localhost:8080/"
        },
        "id": "tlNVzSEOwvwH",
        "outputId": "c4f9fb1a-c489-462c-b4fe-39f5acb9ab98"
      },
      "execution_count": 30,
      "outputs": [
        {
          "output_type": "stream",
          "name": "stdout",
          "text": [
            "llo, \n"
          ]
        }
      ]
    }
  ]
}