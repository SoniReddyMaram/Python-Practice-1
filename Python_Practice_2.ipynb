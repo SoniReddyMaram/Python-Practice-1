{
  "nbformat": 4,
  "nbformat_minor": 0,
  "metadata": {
    "colab": {
      "provenance": []
    },
    "kernelspec": {
      "name": "python3",
      "display_name": "Python 3"
    },
    "language_info": {
      "name": "python"
    }
  },
  "cells": [
    {
      "cell_type": "code",
      "execution_count": 1,
      "metadata": {
        "colab": {
          "base_uri": "https://localhost:8080/"
        },
        "id": "-HPSJDvdMaZs",
        "outputId": "a266cb10-9887-4f5c-bb2d-fd19b6071a7a"
      },
      "outputs": [
        {
          "output_type": "stream",
          "name": "stdout",
          "text": [
            "dlrow olleh\n"
          ]
        }
      ],
      "source": [
        "string = \"hello world\"\n",
        "reversed_string = string[::-1]\n",
        "print(reversed_string)"
      ]
    },
    {
      "cell_type": "code",
      "source": [
        "string = \"hello world\"\n",
        "substring = \"world\"\n",
        "if substring in string:\n",
        "  print(\"substring found\")"
      ],
      "metadata": {
        "colab": {
          "base_uri": "https://localhost:8080/"
        },
        "id": "fURkaCMzMljA",
        "outputId": "2be569fe-02e8-4a2e-c983-97ba018167fe"
      },
      "execution_count": 2,
      "outputs": [
        {
          "output_type": "stream",
          "name": "stdout",
          "text": [
            "substring found\n"
          ]
        }
      ]
    },
    {
      "cell_type": "code",
      "source": [
        "mylist = [1,5,3,6,8]\n",
        "maxvalue = max(mylist)\n",
        "print(maxvalue)"
      ],
      "metadata": {
        "colab": {
          "base_uri": "https://localhost:8080/"
        },
        "id": "2W7pwzivMye0",
        "outputId": "f2025eec-a9f8-4b07-d1d1-b5b13550b25d"
      },
      "execution_count": 3,
      "outputs": [
        {
          "output_type": "stream",
          "name": "stdout",
          "text": [
            "8\n"
          ]
        }
      ]
    },
    {
      "cell_type": "code",
      "source": [
        "mylist = [1,3,9,5,2]\n",
        "maxindex = mylist.index(max(mylist))\n",
        "print(maxindex)"
      ],
      "metadata": {
        "colab": {
          "base_uri": "https://localhost:8080/"
        },
        "id": "zbeq88XONBPE",
        "outputId": "ef781fa2-7eaa-4fa0-b72d-9fdab5eb1a65"
      },
      "execution_count": 7,
      "outputs": [
        {
          "output_type": "stream",
          "name": "stdout",
          "text": [
            "2\n"
          ]
        }
      ]
    },
    {
      "cell_type": "code",
      "source": [
        "mylist = [1,2,3,2,1,4,5,4]\n",
        "mylist = list(set(mylist))\n",
        "print(mylist)"
      ],
      "metadata": {
        "colab": {
          "base_uri": "https://localhost:8080/"
        },
        "id": "eGFlPC60NpoS",
        "outputId": "0ed07197-8ace-470d-c73b-aea670b4c1de"
      },
      "execution_count": 8,
      "outputs": [
        {
          "output_type": "stream",
          "name": "stdout",
          "text": [
            "[1, 2, 3, 4, 5]\n"
          ]
        }
      ]
    },
    {
      "cell_type": "code",
      "source": [
        "mylist = []\n",
        "if not mylist:\n",
        "  print(\"List is empty\")"
      ],
      "metadata": {
        "colab": {
          "base_uri": "https://localhost:8080/"
        },
        "id": "TWhvERdbN7k_",
        "outputId": "679dcce0-bf9c-45e9-d4f7-c55942c84067"
      },
      "execution_count": 9,
      "outputs": [
        {
          "output_type": "stream",
          "name": "stdout",
          "text": [
            "List is empty\n"
          ]
        }
      ]
    },
    {
      "cell_type": "code",
      "source": [
        "string = \"hello world\"\n",
        "mylist = list(string)\n",
        "print(mylist)"
      ],
      "metadata": {
        "colab": {
          "base_uri": "https://localhost:8080/"
        },
        "id": "99qwCVBJOFyX",
        "outputId": "70e32d1a-3d3a-4111-b034-d05bf71307c5"
      },
      "execution_count": 10,
      "outputs": [
        {
          "output_type": "stream",
          "name": "stdout",
          "text": [
            "['h', 'e', 'l', 'l', 'o', ' ', 'w', 'o', 'r', 'l', 'd']\n"
          ]
        }
      ]
    },
    {
      "cell_type": "code",
      "source": [
        "mylist = [1,1,8,6,4,3,4,7,6,4]\n",
        "count = mylist.count(4)\n",
        "print(count)"
      ],
      "metadata": {
        "colab": {
          "base_uri": "https://localhost:8080/"
        },
        "id": "BlBIx4o4OOp7",
        "outputId": "401d0f4b-cbae-4c2e-b36c-70d7724fc8fd"
      },
      "execution_count": 11,
      "outputs": [
        {
          "output_type": "stream",
          "name": "stdout",
          "text": [
            "3\n"
          ]
        }
      ]
    },
    {
      "cell_type": "code",
      "source": [
        "mylist = [1,2,3,4,5]\n",
        "if len(mylist) == len(set(mylist)):\n",
        "  print(\"All elements are unique\")"
      ],
      "metadata": {
        "colab": {
          "base_uri": "https://localhost:8080/"
        },
        "id": "pFGBkPhsOj2T",
        "outputId": "bee645cc-4ba9-4b85-b6c1-13fc562fd7eb"
      },
      "execution_count": 12,
      "outputs": [
        {
          "output_type": "stream",
          "name": "stdout",
          "text": [
            "All elements are unique\n"
          ]
        }
      ]
    },
    {
      "cell_type": "code",
      "source": [
        "dict1 = {\"apple\":3, \"banana\":1}\n",
        "dict2 = {\"orange\":2, \"pear\":4}\n",
        "mergeddict = {**dict1, **dict2}\n",
        "print(mergeddict)"
      ],
      "metadata": {
        "colab": {
          "base_uri": "https://localhost:8080/"
        },
        "id": "tSQKeNTIO4Au",
        "outputId": "7c458006-563d-4475-e948-c16367fc70c0"
      },
      "execution_count": 13,
      "outputs": [
        {
          "output_type": "stream",
          "name": "stdout",
          "text": [
            "{'apple': 3, 'banana': 1, 'orange': 2, 'pear': 4}\n"
          ]
        }
      ]
    },
    {
      "cell_type": "code",
      "source": [
        "string = \" hello world \"\n",
        "newstring = \"\".join(string.split())\n",
        "print(newstring)"
      ],
      "metadata": {
        "colab": {
          "base_uri": "https://localhost:8080/"
        },
        "id": "zYqDtsUhPPfA",
        "outputId": "ec68e460-3eae-44a7-e75e-bdff7af65988"
      },
      "execution_count": 15,
      "outputs": [
        {
          "output_type": "stream",
          "name": "stdout",
          "text": [
            "helloworld\n"
          ]
        }
      ]
    },
    {
      "cell_type": "code",
      "source": [
        "string = \"racecar\"\n",
        "if string == string[::-1]:\n",
        "  print(\"string is palindrom\")"
      ],
      "metadata": {
        "colab": {
          "base_uri": "https://localhost:8080/"
        },
        "id": "GBIduReAPbS_",
        "outputId": "ad61bdef-f87b-4fc1-b74a-74f55530ff32"
      },
      "execution_count": 16,
      "outputs": [
        {
          "output_type": "stream",
          "name": "stdout",
          "text": [
            "string is palindrom\n"
          ]
        }
      ]
    },
    {
      "cell_type": "code",
      "source": [
        "import random\n",
        "random_number = random.randint(1,20)\n",
        "print(random_number)"
      ],
      "metadata": {
        "colab": {
          "base_uri": "https://localhost:8080/"
        },
        "id": "v_uGKyXEP-9e",
        "outputId": "84490ab6-41fd-4746-92fe-fd12b0cf34d8"
      },
      "execution_count": 19,
      "outputs": [
        {
          "output_type": "stream",
          "name": "stdout",
          "text": [
            "15\n"
          ]
        }
      ]
    }
  ]
}